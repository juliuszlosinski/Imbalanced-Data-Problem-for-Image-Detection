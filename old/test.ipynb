{
 "cells": [
  {
   "cell_type": "code",
   "execution_count": null,
   "metadata": {},
   "outputs": [
    {
     "ename": "NameError",
     "evalue": "name 'ImageSMOTE' is not defined",
     "output_type": "error",
     "traceback": [
      "\u001b[1;31m---------------------------------------------------------------------------\u001b[0m",
      "\u001b[1;31mNameError\u001b[0m                                 Traceback (most recent call last)",
      "Cell \u001b[1;32mIn[2], line 9\u001b[0m\n\u001b[0;32m      6\u001b[0m debug \u001b[38;5;241m=\u001b[39m \u001b[38;5;28;01mTrue\u001b[39;00m\n\u001b[0;32m      8\u001b[0m \u001b[38;5;66;03m# Run the ImageSMOTE pipeline\u001b[39;00m\n\u001b[1;32m----> 9\u001b[0m image_smote \u001b[38;5;241m=\u001b[39m \u001b[43mImageSMOTE\u001b[49m()\n\u001b[0;32m     10\u001b[0m image_smote\u001b[38;5;241m.\u001b[39mfit(path_to_input_image_folder\u001b[38;5;241m=\u001b[39mpath_to_input_image_folder, width_of_image\u001b[38;5;241m=\u001b[39mwidth_of_image, height_of_image\u001b[38;5;241m=\u001b[39mheight_of_image, debug\u001b[38;5;241m=\u001b[39mdebug)\n\u001b[0;32m     11\u001b[0m image_smote\u001b[38;5;241m.\u001b[39mbalance(path_to_output_image_folder\u001b[38;5;241m=\u001b[39mpath_to_output_image_folder, debug\u001b[38;5;241m=\u001b[39mdebug)\n",
      "\u001b[1;31mNameError\u001b[0m: name 'ImageSMOTE' is not defined"
     ]
    }
   ],
   "source": [
    "# Configuration\n",
    "path_to_input_image_folder = \"./final-dataset/imbalanced_flags/\"\n",
    "path_to_output_image_folder = \"./final-dataset/balanced_flags/\"\n",
    "width_of_image = 128\n",
    "height_of_image = 128\n",
    "debug = True\n",
    "\n",
    "# Run the ImageSMOTE pipeline\n",
    "image_smote = ImageSMOTE()\n",
    "image_smote.fit(path_to_input_image_folder=path_to_input_image_folder, width_of_image=width_of_image, height_of_image=height_of_image, debug=debug)\n",
    "image_smote.balance(path_to_output_image_folder=path_to_output_image_folder, debug=debug)\n",
    "\n",
    "# Configuration.\n",
    "imbalanced_folder = \"./dataset/training/imbalanced_flags/\"\n",
    "balanced_folder = \"./dataset/training/balanced_flags/\"\n",
    "batch_size=128 # 128\n",
    "number_of_epochs=200 # 200\n",
    "delta = 5\n",
    "\n",
    "# Run the AEBalancer pipeline.\n",
    "ae_balancer = AEBalancer()\n",
    "ae_balancer.fit(\n",
    "    path_to_folder=imbalanced_folder, \n",
    "    batch_size=batch_size, number_of_epochs=number_of_epochs, delta=delta\n",
    ")\n",
    "\n",
    "# Configuration.\n",
    "path_to_input_image_folder = \"./final-dataset/imbalanced_flags/images/\"\n",
    "path_to_output_image_folder = \"./final-dataset/balanced_flags/\"\n",
    "width_of_image = 128\n",
    "height_of_image = 128\n",
    "number_of_neighbors = 10\n",
    "debug = True\n",
    "\n",
    "# Configuration.\n",
    "latent_dimension=100\n",
    "learning_rate=0.002\n",
    "beta_01=0.5\n",
    "batch_size=128 # 128\n",
    "number_of_epochs=250 # 200\n",
    "delta=5\n",
    "\n",
    "\n",
    "# Run the ImageSMOTE pipeline.\n",
    "image_adasyn = ImageADASYN()\n",
    "image_adasyn.fit(path_to_input_image_folder=path_to_input_image_folder, width_of_image=width_of_image, height_of_image=height_of_image, debug=debug)\n",
    "image_adasyn.balance(path_to_output_image_folder=path_to_output_image_folder, number_of_neighbors = number_of_neighbors, debug=debug)"
   ]
  }
 ],
 "metadata": {
  "kernelspec": {
   "display_name": "Python 3",
   "language": "python",
   "name": "python3"
  },
  "language_info": {
   "codemirror_mode": {
    "name": "ipython",
    "version": 3
   },
   "file_extension": ".py",
   "mimetype": "text/x-python",
   "name": "python",
   "nbconvert_exporter": "python",
   "pygments_lexer": "ipython3",
   "version": "3.11.6"
  }
 },
 "nbformat": 4,
 "nbformat_minor": 2
}
