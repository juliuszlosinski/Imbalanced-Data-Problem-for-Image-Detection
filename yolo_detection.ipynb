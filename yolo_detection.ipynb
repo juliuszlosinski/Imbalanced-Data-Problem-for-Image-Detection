{
 "cells": [
  {
   "cell_type": "code",
   "execution_count": 11,
   "metadata": {},
   "outputs": [],
   "source": [
    "import os\n",
    "import shutil\n",
    "\n",
    "class YOLOFormatter:\n",
    "    def __init__(self):\n",
    "        pass\n",
    "    \n",
    "    def delete_all_files_and_directories(self, path_to_directory):\n",
    "        if os.path.exists(path_to_directory):\n",
    "            for root, dirs, files in os.walk(path_to_directory, topdown=False):\n",
    "                for file in files:\n",
    "                    file_path = os.path.join(root, file)\n",
    "                    os.remove(file_path)\n",
    "                for dir in dirs:\n",
    "                    dir_path = os.path.join(root, dir)\n",
    "                    os.rmdir(dir_path)\n",
    "            os.rmdir(path_to_directory)\n",
    "        else:\n",
    "            print(f\"The path {path} does not exist.\")\n",
    "    \n",
    "    def copy(self, source_directory, target_directory):\n",
    "        if not os.path.exists(target_directory):\n",
    "            os.makedirs(target_directory)\n",
    "        for root, dirs, files in os.walk(source_directory):\n",
    "            for file in files:\n",
    "                source_file = os.path.join(root, file)\n",
    "                target_file = os.path.join(target_directory, file)\n",
    "                shutil.copy2(source_file, target_file)\n",
    "\n",
    "method = \"SMOTE\"\n",
    "images_source_directory = f\"./maritime-flags-dataset/{method}_balanced_flags/images/\"\n",
    "images_target_directory = \"./yolo-maritime-flags-dataset/images/train/\"\n",
    "labels_source_directory = f\"./maritime-flags-dataset/{method}_balanced_flags/labels/\"\n",
    "labels_target_directory = \"./yolo-maritime-flags-dataset/labels/train/\"\n",
    "\n",
    "yolo_formatter = YOLOFormatter()\n",
    "yolo_formatter.delete_all_files_and_directories(images_target_directory)\n",
    "yolo_formatter.delete_all_files_and_directories(labels_target_directory)\n",
    "yolo_formatter.copy(images_source_directory, images_target_directory)\n",
    "yolo_formatter.copy(labels_source_directory, labels_target_directory)"
   ]
  },
  {
   "cell_type": "code",
   "execution_count": null,
   "metadata": {},
   "outputs": [],
   "source": [
    "from ultralytics import YOLO\n",
    " \n",
    "# Load the model.\n",
    "model = YOLO('yolov5.pt')\n",
    " \n",
    "# Start training on your custom dataset\n",
    "model.train(\"./data.yaml\", epochs=100, imgsz=640)"
   ]
  }
 ],
 "metadata": {
  "kernelspec": {
   "display_name": "Python 3",
   "language": "python",
   "name": "python3"
  },
  "language_info": {
   "codemirror_mode": {
    "name": "ipython",
    "version": 3
   },
   "file_extension": ".py",
   "mimetype": "text/x-python",
   "name": "python",
   "nbconvert_exporter": "python",
   "pygments_lexer": "ipython3",
   "version": "3.11.6"
  }
 },
 "nbformat": 4,
 "nbformat_minor": 2
}
