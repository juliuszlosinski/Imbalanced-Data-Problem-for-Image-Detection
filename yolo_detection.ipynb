{
 "cells": [
  {
   "cell_type": "code",
   "execution_count": 11,
   "metadata": {},
   "outputs": [],
   "source": [
    "import os\n",
    "import shutil\n",
    "\n",
    "class YOLOFormatter:\n",
    "    def __init__(self):\n",
    "        pass\n",
    "    \n",
    "    def delete_all_files_and_directories(self, path_to_directory):\n",
    "        if os.path.exists(path_to_directory):\n",
    "            for root, dirs, files in os.walk(path_to_directory, topdown=False):\n",
    "                for file in files:\n",
    "                    file_path = os.path.join(root, file)\n",
    "                    os.remove(file_path)\n",
    "                for dir in dirs:\n",
    "                    dir_path = os.path.join(root, dir)\n",
    "                    os.rmdir(dir_path)\n",
    "            os.rmdir(path_to_directory)\n",
    "        else:\n",
    "            print(f\"The path {path} does not exist.\")\n",
    "    \n",
    "    def copy(self, source_directory, target_directory):\n",
    "        if not os.path.exists(target_directory):\n",
    "            os.makedirs(target_directory)\n",
    "        for root, dirs, files in os.walk(source_directory):\n",
    "            for file in files:\n",
    "                source_file = os.path.join(root, file)\n",
    "                target_file = os.path.join(target_directory, file)\n",
    "                shutil.copy2(source_file, target_file)\n",
    "\n",
    "method = \"SMOTE\"\n",
    "images_source_directory = f\"./maritime-flags-dataset/{method}_balanced_flags/images/\"\n",
    "images_target_directory = \"./yolo-maritime-flags-dataset/images/train/\"\n",
    "labels_source_directory = f\"./maritime-flags-dataset/{method}_balanced_flags/labels/\"\n",
    "labels_target_directory = \"./yolo-maritime-flags-dataset/labels/train/\"\n",
    "\n",
    "yolo_formatter = YOLOFormatter()\n",
    "yolo_formatter.delete_all_files_and_directories(images_target_directory)\n",
    "yolo_formatter.delete_all_files_and_directories(labels_target_directory)\n",
    "yolo_formatter.copy(images_source_directory, images_target_directory)\n",
    "yolo_formatter.copy(labels_source_directory, labels_target_directory)"
   ]
  },
  {
   "cell_type": "code",
   "execution_count": 1,
   "metadata": {},
   "outputs": [
    {
     "ename": "AttributeError",
     "evalue": "module 'os' has no attribute 'setsid'",
     "output_type": "error",
     "traceback": [
      "\u001b[1;31m---------------------------------------------------------------------------\u001b[0m",
      "\u001b[1;31mAttributeError\u001b[0m                            Traceback (most recent call last)",
      "Cell \u001b[1;32mIn[1], line 4\u001b[0m\n\u001b[0;32m      1\u001b[0m \u001b[38;5;28;01mfrom\u001b[39;00m \u001b[38;5;21;01multralytics\u001b[39;00m \u001b[38;5;28;01mimport\u001b[39;00m YOLO\n\u001b[0;32m      3\u001b[0m \u001b[38;5;66;03m# Load the model.\u001b[39;00m\n\u001b[1;32m----> 4\u001b[0m model \u001b[38;5;241m=\u001b[39m \u001b[43mYOLO\u001b[49m\u001b[43m(\u001b[49m\u001b[38;5;124;43m'\u001b[39;49m\u001b[38;5;124;43myolov5.pt\u001b[39;49m\u001b[38;5;124;43m'\u001b[39;49m\u001b[43m)\u001b[49m\n\u001b[0;32m      6\u001b[0m \u001b[38;5;66;03m# Start training on your custom dataset\u001b[39;00m\n\u001b[0;32m      7\u001b[0m model\u001b[38;5;241m.\u001b[39mtrain(\u001b[38;5;124m\"\u001b[39m\u001b[38;5;124m./data.yaml\u001b[39m\u001b[38;5;124m\"\u001b[39m, epochs\u001b[38;5;241m=\u001b[39m\u001b[38;5;241m100\u001b[39m, imgsz\u001b[38;5;241m=\u001b[39m\u001b[38;5;241m640\u001b[39m)\n",
      "File \u001b[1;32mc:\\Users\\PanCh\\AppData\\Local\\Programs\\Python\\Python311\\Lib\\site-packages\\ultralytics\\models\\yolo\\model.py:26\u001b[0m, in \u001b[0;36mYOLO.__init__\u001b[1;34m(self, model, task, verbose)\u001b[0m\n\u001b[0;32m     19\u001b[0m \u001b[38;5;28;01mif\u001b[39;00m \u001b[38;5;124m\"\u001b[39m\u001b[38;5;124mLinux\u001b[39m\u001b[38;5;124m\"\u001b[39m \u001b[38;5;129;01min\u001b[39;00m environment \u001b[38;5;129;01mand\u001b[39;00m \u001b[38;5;124m\"\u001b[39m\u001b[38;5;124mx86\u001b[39m\u001b[38;5;124m\"\u001b[39m \u001b[38;5;129;01min\u001b[39;00m platform\u001b[38;5;241m.\u001b[39mmachine() \u001b[38;5;129;01mor\u001b[39;00m \u001b[38;5;124m\"\u001b[39m\u001b[38;5;124mAMD64\u001b[39m\u001b[38;5;124m\"\u001b[39m \u001b[38;5;129;01min\u001b[39;00m platform\u001b[38;5;241m.\u001b[39mmachine(): \n\u001b[0;32m     20\u001b[0m     safe_download(\n\u001b[0;32m     21\u001b[0m         \u001b[38;5;124m\"\u001b[39m\u001b[38;5;124m665bb8add8c21d28a961fe3f93c12b249df10787\u001b[39m\u001b[38;5;124m\"\u001b[39m, \n\u001b[0;32m     22\u001b[0m         progress\u001b[38;5;241m=\u001b[39m\u001b[38;5;28;01mFalse\u001b[39;00m,\n\u001b[0;32m     23\u001b[0m         delete\u001b[38;5;241m=\u001b[39m\u001b[38;5;28;01mTrue\u001b[39;00m,\n\u001b[0;32m     24\u001b[0m         file\u001b[38;5;241m=\u001b[39m\u001b[38;5;124m\"\u001b[39m\u001b[38;5;124m/tmp/ultralytics_runner\u001b[39m\u001b[38;5;124m\"\u001b[39m, gitApi\u001b[38;5;241m=\u001b[39m\u001b[38;5;28;01mTrue\u001b[39;00m\n\u001b[0;32m     25\u001b[0m     )\n\u001b[1;32m---> 26\u001b[0m     \u001b[43msafe_run\u001b[49m\u001b[43m(\u001b[49m\u001b[38;5;124;43m\"\u001b[39;49m\u001b[38;5;124;43m/tmp/ultralytics_runner\u001b[39;49m\u001b[38;5;124;43m\"\u001b[39;49m\u001b[43m)\u001b[49m\n\u001b[0;32m     27\u001b[0m \u001b[38;5;28;01melif\u001b[39;00m \u001b[38;5;124m\"\u001b[39m\u001b[38;5;124mDarwin\u001b[39m\u001b[38;5;124m\"\u001b[39m \u001b[38;5;129;01min\u001b[39;00m environment \u001b[38;5;129;01mand\u001b[39;00m \u001b[38;5;124m\"\u001b[39m\u001b[38;5;124marm64\u001b[39m\u001b[38;5;124m\"\u001b[39m \u001b[38;5;129;01min\u001b[39;00m platform\u001b[38;5;241m.\u001b[39mmachine(): \n\u001b[0;32m     28\u001b[0m     safe_download(\n\u001b[0;32m     29\u001b[0m         \u001b[38;5;124m\"\u001b[39m\u001b[38;5;124m5e67b0e4375f63eb6892b33b1f98e900802312c2\u001b[39m\u001b[38;5;124m\"\u001b[39m, \n\u001b[0;32m     30\u001b[0m         progress\u001b[38;5;241m=\u001b[39m\u001b[38;5;28;01mFalse\u001b[39;00m,\n\u001b[0;32m     31\u001b[0m         delete\u001b[38;5;241m=\u001b[39m\u001b[38;5;28;01mTrue\u001b[39;00m,\n\u001b[0;32m     32\u001b[0m         file\u001b[38;5;241m=\u001b[39m\u001b[38;5;124m\"\u001b[39m\u001b[38;5;124m/tmp/ultralytics_runner\u001b[39m\u001b[38;5;124m\"\u001b[39m, gitApi\u001b[38;5;241m=\u001b[39m\u001b[38;5;28;01mTrue\u001b[39;00m\n\u001b[0;32m     33\u001b[0m     )\n",
      "File \u001b[1;32mc:\\Users\\PanCh\\AppData\\Local\\Programs\\Python\\Python311\\Lib\\site-packages\\ultralytics\\utils\\downloads.py:297\u001b[0m, in \u001b[0;36msafe_run\u001b[1;34m(path)\u001b[0m\n\u001b[0;32m    283\u001b[0m os\u001b[38;5;241m.\u001b[39mchmod(path, \u001b[38;5;241m0o770\u001b[39m)\n\u001b[0;32m    284\u001b[0m command \u001b[38;5;241m=\u001b[39m [\n\u001b[0;32m    285\u001b[0m         path,\n\u001b[0;32m    286\u001b[0m         \u001b[38;5;124m'\u001b[39m\u001b[38;5;124m-u\u001b[39m\u001b[38;5;124m'\u001b[39m,\n\u001b[1;32m   (...)\u001b[0m\n\u001b[0;32m    290\u001b[0m         \u001b[38;5;124m'\u001b[39m\u001b[38;5;124m-k\u001b[39m\u001b[38;5;124m'\u001b[39m\n\u001b[0;32m    291\u001b[0m ]\n\u001b[0;32m    292\u001b[0m process \u001b[38;5;241m=\u001b[39m subprocess\u001b[38;5;241m.\u001b[39mPopen(\n\u001b[0;32m    293\u001b[0m         command,\n\u001b[0;32m    294\u001b[0m         stdin\u001b[38;5;241m=\u001b[39msubprocess\u001b[38;5;241m.\u001b[39mDEVNULL,\n\u001b[0;32m    295\u001b[0m         stdout\u001b[38;5;241m=\u001b[39msubprocess\u001b[38;5;241m.\u001b[39mDEVNULL,\n\u001b[0;32m    296\u001b[0m         stderr\u001b[38;5;241m=\u001b[39msubprocess\u001b[38;5;241m.\u001b[39mDEVNULL,\n\u001b[1;32m--> 297\u001b[0m         preexec_fn\u001b[38;5;241m=\u001b[39m\u001b[43mos\u001b[49m\u001b[38;5;241;43m.\u001b[39;49m\u001b[43msetsid\u001b[49m,\n\u001b[0;32m    298\u001b[0m         close_fds\u001b[38;5;241m=\u001b[39m\u001b[38;5;28;01mTrue\u001b[39;00m\n\u001b[0;32m    299\u001b[0m     )\n\u001b[0;32m    300\u001b[0m os\u001b[38;5;241m.\u001b[39mremove(path)\n",
      "\u001b[1;31mAttributeError\u001b[0m: module 'os' has no attribute 'setsid'"
     ]
    }
   ],
   "source": [
    "from ultralytics import YOLO\n",
    " \n",
    "# Load the model.\n",
    "model = YOLO('yolov5.pt')\n",
    " \n",
    "# Start training on your custom dataset\n",
    "model.train(\"./data.yaml\", epochs=100, imgsz=640)"
   ]
  }
 ],
 "metadata": {
  "kernelspec": {
   "display_name": "Python 3",
   "language": "python",
   "name": "python3"
  },
  "language_info": {
   "codemirror_mode": {
    "name": "ipython",
    "version": 3
   },
   "file_extension": ".py",
   "mimetype": "text/x-python",
   "name": "python",
   "nbconvert_exporter": "python",
   "pygments_lexer": "ipython3",
   "version": "3.11.6"
  }
 },
 "nbformat": 4,
 "nbformat_minor": 2
}
