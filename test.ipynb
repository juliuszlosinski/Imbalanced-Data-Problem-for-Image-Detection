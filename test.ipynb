{
 "cells": [
  {
   "cell_type": "code",
   "execution_count": null,
   "metadata": {},
   "outputs": [
    {
     "name": "stdout",
     "output_type": "stream",
     "text": [
      "Path to input imbalanced images folder: ./final-dataset/imbalanced_flags/\n",
      "\n",
      "Path to output balanced images folder: ./final-dataset/balanced_flags/\n",
      "\n",
      "Size of image: (128, 128, 3)\n",
      "\n",
      "Batch size: 128\n",
      "\n",
      "Number of epochs: 200\n",
      "\n",
      "Latent dimension: 100\n",
      "\n",
      "Learning rate: 0.002\n",
      "\n",
      "Beta: 0.5\n"
     ]
    }
   ],
   "source": [
    "from balancers.configuration_reader import ConfigurationReader\n",
    "from balancers.adasyn import ImageADASYN\n",
    "\n",
    "path_to_input_imbalanced_images_folder=\"./final-dataset/imbalanced_flags/images/\"\n",
    "path_to_output_balanced_images_folder=\"./final-dataset/balanced_flags/\"\n",
    "\n",
    "configuration_reader = ConfigurationReader()\n",
    "configuration_reader.read(\"./configuration.json\")\n",
    "configuration_reader.print()\n",
    "\n",
    "## IMAGE ADASYN\n",
    "adasyn_balancer = ImageADASYN()\n",
    "adasyn_balancer.fit(\n",
    "    width_of_image=configuration_reader.width_of_image,\n",
    "    height_of_image=configuration_reader.height_of_image,\n",
    "    path_to_input_image_folder=path_to_input_imbalanced_images_folder\n",
    ")\n",
    "adasyn_balancer.balance(\n",
    "    path_to_output_image_folder=path_to_output_balanced_images_folder\n",
    "    number_of_neighbors = configuration_reader.number_of_neighbors\n",
    ")\n",
    "\n",
    "## IMAGE SMOTE\n",
    "smote_balancer = ImageSMOTE()\n",
    "smote_balancer.fit(\n",
    "    path_to_input_image_folder=path_to_input_image_folder, width_of_image=width_of_image, \n",
    "    height_of_image=height_of_image)\n",
    "image_smote.balance(path_to_output_image_folder=path_to_output_image_folder, debug=debug)"
   ]
  }
 ],
 "metadata": {
  "kernelspec": {
   "display_name": "Python 3",
   "language": "python",
   "name": "python3"
  },
  "language_info": {
   "codemirror_mode": {
    "name": "ipython",
    "version": 3
   },
   "file_extension": ".py",
   "mimetype": "text/x-python",
   "name": "python",
   "nbconvert_exporter": "python",
   "pygments_lexer": "ipython3",
   "version": "3.11.6"
  }
 },
 "nbformat": 4,
 "nbformat_minor": 2
}
