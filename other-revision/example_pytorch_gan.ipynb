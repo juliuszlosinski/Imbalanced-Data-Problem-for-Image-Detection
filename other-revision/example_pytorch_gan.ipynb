{
 "cells": [
  {
   "cell_type": "code",
   "execution_count": 1,
   "metadata": {},
   "outputs": [
    {
     "name": "stderr",
     "output_type": "stream",
     "text": [
      "c:\\Users\\PanCh\\AppData\\Local\\Programs\\Python\\Python311\\Lib\\site-packages\\tqdm\\auto.py:21: TqdmWarning: IProgress not found. Please update jupyter and ipywidgets. See https://ipywidgets.readthedocs.io/en/stable/user_install.html\n",
      "  from .autonotebook import tqdm as notebook_tqdm\n"
     ]
    }
   ],
   "source": [
    "import torch\n",
    "import torch.nn as nn\n",
    "import torch.optim as optim\n",
    "import torchvision\n",
    "import torchvision.transforms as transforms\n",
    "from torch.utils.data import DataLoader\n",
    "import matplotlib.pyplot as plt"
   ]
  },
  {
   "cell_type": "code",
   "execution_count": 2,
   "metadata": {},
   "outputs": [
    {
     "name": "stdout",
     "output_type": "stream",
     "text": [
      "Downloading http://yann.lecun.com/exdb/mnist/train-images-idx3-ubyte.gz\n",
      "Failed to download (trying next):\n",
      "HTTP Error 403: Forbidden\n",
      "\n",
      "Downloading https://ossci-datasets.s3.amazonaws.com/mnist/train-images-idx3-ubyte.gz\n",
      "Downloading https://ossci-datasets.s3.amazonaws.com/mnist/train-images-idx3-ubyte.gz to ./data\\MNIST\\raw\\train-images-idx3-ubyte.gz\n"
     ]
    },
    {
     "name": "stderr",
     "output_type": "stream",
     "text": [
      "100%|██████████| 9912422/9912422 [00:01<00:00, 6465784.38it/s] \n"
     ]
    },
    {
     "name": "stdout",
     "output_type": "stream",
     "text": [
      "Extracting ./data\\MNIST\\raw\\train-images-idx3-ubyte.gz to ./data\\MNIST\\raw\n",
      "\n",
      "Downloading http://yann.lecun.com/exdb/mnist/train-labels-idx1-ubyte.gz\n",
      "Failed to download (trying next):\n",
      "HTTP Error 403: Forbidden\n",
      "\n",
      "Downloading https://ossci-datasets.s3.amazonaws.com/mnist/train-labels-idx1-ubyte.gz\n",
      "Downloading https://ossci-datasets.s3.amazonaws.com/mnist/train-labels-idx1-ubyte.gz to ./data\\MNIST\\raw\\train-labels-idx1-ubyte.gz\n"
     ]
    },
    {
     "name": "stderr",
     "output_type": "stream",
     "text": [
      "100%|██████████| 28881/28881 [00:00<00:00, 191138.42it/s]\n"
     ]
    },
    {
     "name": "stdout",
     "output_type": "stream",
     "text": [
      "Extracting ./data\\MNIST\\raw\\train-labels-idx1-ubyte.gz to ./data\\MNIST\\raw\n",
      "\n",
      "Downloading http://yann.lecun.com/exdb/mnist/t10k-images-idx3-ubyte.gz\n",
      "Failed to download (trying next):\n",
      "HTTP Error 403: Forbidden\n",
      "\n",
      "Downloading https://ossci-datasets.s3.amazonaws.com/mnist/t10k-images-idx3-ubyte.gz\n",
      "Downloading https://ossci-datasets.s3.amazonaws.com/mnist/t10k-images-idx3-ubyte.gz to ./data\\MNIST\\raw\\t10k-images-idx3-ubyte.gz\n"
     ]
    },
    {
     "name": "stderr",
     "output_type": "stream",
     "text": [
      "100%|██████████| 1648877/1648877 [00:00<00:00, 1649792.70it/s]\n"
     ]
    },
    {
     "name": "stdout",
     "output_type": "stream",
     "text": [
      "Extracting ./data\\MNIST\\raw\\t10k-images-idx3-ubyte.gz to ./data\\MNIST\\raw\n",
      "\n",
      "Downloading http://yann.lecun.com/exdb/mnist/t10k-labels-idx1-ubyte.gz\n",
      "Failed to download (trying next):\n",
      "HTTP Error 403: Forbidden\n",
      "\n",
      "Downloading https://ossci-datasets.s3.amazonaws.com/mnist/t10k-labels-idx1-ubyte.gz\n",
      "Downloading https://ossci-datasets.s3.amazonaws.com/mnist/t10k-labels-idx1-ubyte.gz to ./data\\MNIST\\raw\\t10k-labels-idx1-ubyte.gz\n"
     ]
    },
    {
     "name": "stderr",
     "output_type": "stream",
     "text": [
      "100%|██████████| 4542/4542 [00:00<00:00, 4702673.11it/s]"
     ]
    },
    {
     "name": "stdout",
     "output_type": "stream",
     "text": [
      "Extracting ./data\\MNIST\\raw\\t10k-labels-idx1-ubyte.gz to ./data\\MNIST\\raw\n",
      "\n"
     ]
    },
    {
     "name": "stderr",
     "output_type": "stream",
     "text": [
      "\n"
     ]
    }
   ],
   "source": [
    "# Device configuration\n",
    "device = torch.device(\"cuda\" if torch.cuda.is_available() else \"cpu\")\n",
    "\n",
    "# Hyperparameters\n",
    "latent_dim = 100\n",
    "num_classes = 10\n",
    "image_dim = 28 * 28\n",
    "batch_size = 128\n",
    "num_epochs = 50\n",
    "learning_rate = 0.0002\n",
    "\n",
    "# Transform\n",
    "transform = transforms.Compose([transforms.ToTensor(), transforms.Normalize((0.5,), (0.5,))])\n",
    "train_dataset = torchvision.datasets.MNIST(root=\"./data\", train=True, transform=transform, download=True)\n",
    "train_loader = DataLoader(train_dataset, batch_size=batch_size, shuffle=True)"
   ]
  },
  {
   "cell_type": "code",
   "execution_count": 3,
   "metadata": {},
   "outputs": [],
   "source": [
    "# Generator\n",
    "class Generator(nn.Module):\n",
    "    def __init__(self, latent_dim, num_classes, image_dim):\n",
    "        super(Generator, self).__init__()\n",
    "        self.label_emb = nn.Embedding(num_classes, num_classes)\n",
    "        self.model = nn.Sequential(\n",
    "            nn.Linear(latent_dim + num_classes, 256),\n",
    "            nn.ReLU(),\n",
    "            nn.Linear(256, 512),\n",
    "            nn.ReLU(),\n",
    "            nn.Linear(512, 1024),\n",
    "            nn.ReLU(),\n",
    "            nn.Linear(1024, image_dim),\n",
    "            nn.Tanh()\n",
    "        )\n",
    "\n",
    "    def forward(self, noise, labels):\n",
    "        c = self.label_emb(labels)\n",
    "        x = torch.cat([noise, c], dim=1)\n",
    "        return self.model(x)\n",
    "\n",
    "# Discriminator\n",
    "class Discriminator(nn.Module):\n",
    "    def __init__(self, num_classes, image_dim):\n",
    "        super(Discriminator, self).__init__()\n",
    "        self.label_emb = nn.Embedding(num_classes, num_classes)\n",
    "        self.model = nn.Sequential(\n",
    "            nn.Linear(image_dim + num_classes, 512),\n",
    "            nn.LeakyReLU(0.2),\n",
    "            nn.Linear(512, 256),\n",
    "            nn.LeakyReLU(0.2),\n",
    "            nn.Linear(256, 1),\n",
    "            nn.Sigmoid()\n",
    "        )\n",
    "\n",
    "    def forward(self, img, labels):\n",
    "        c = self.label_emb(labels)\n",
    "        x = torch.cat([img, c], dim=1)\n",
    "        return self.model(x)"
   ]
  },
  {
   "cell_type": "code",
   "execution_count": 4,
   "metadata": {},
   "outputs": [],
   "source": [
    "# Initialize models\n",
    "generator = Generator(latent_dim, num_classes, image_dim).to(device)\n",
    "discriminator = Discriminator(num_classes, image_dim).to(device)\n",
    "\n",
    "# Loss and optimizers\n",
    "criterion = nn.BCELoss()\n",
    "optimizer_G = optim.Adam(generator.parameters(), lr=learning_rate)\n",
    "optimizer_D = optim.Adam(discriminator.parameters(), lr=learning_rate)"
   ]
  },
  {
   "cell_type": "code",
   "execution_count": 5,
   "metadata": {},
   "outputs": [
    {
     "name": "stdout",
     "output_type": "stream",
     "text": [
      "Epoch [1/50]  Loss D: 0.0008, Loss G: 7.4127\n",
      "Epoch [2/50]  Loss D: 0.0048, Loss G: 5.6020\n",
      "Epoch [3/50]  Loss D: 0.0675, Loss G: 8.0887\n",
      "Epoch [4/50]  Loss D: 0.0473, Loss G: 6.6722\n",
      "Epoch [5/50]  Loss D: 0.2848, Loss G: 5.0810\n",
      "Epoch [6/50]  Loss D: 0.2059, Loss G: 3.0143\n",
      "Epoch [7/50]  Loss D: 0.4889, Loss G: 2.1123\n",
      "Epoch [8/50]  Loss D: 0.4684, Loss G: 1.9341\n",
      "Epoch [9/50]  Loss D: 0.4282, Loss G: 3.0006\n",
      "Epoch [10/50]  Loss D: 0.2967, Loss G: 2.4022\n",
      "Epoch [11/50]  Loss D: 0.6103, Loss G: 5.1857\n",
      "Epoch [12/50]  Loss D: 1.6185, Loss G: 1.3018\n",
      "Epoch [13/50]  Loss D: 0.5203, Loss G: 2.0040\n",
      "Epoch [14/50]  Loss D: 0.2899, Loss G: 3.5450\n",
      "Epoch [15/50]  Loss D: 0.1849, Loss G: 2.8714\n",
      "Epoch [16/50]  Loss D: 0.2044, Loss G: 3.0298\n",
      "Epoch [17/50]  Loss D: 0.5058, Loss G: 4.2647\n",
      "Epoch [18/50]  Loss D: 0.6499, Loss G: 3.1531\n",
      "Epoch [19/50]  Loss D: 0.1727, Loss G: 4.7861\n",
      "Epoch [20/50]  Loss D: 0.2981, Loss G: 3.0228\n",
      "Epoch [21/50]  Loss D: 0.2772, Loss G: 3.5422\n",
      "Epoch [22/50]  Loss D: 0.1387, Loss G: 4.9271\n",
      "Epoch [23/50]  Loss D: 0.0618, Loss G: 4.9933\n",
      "Epoch [24/50]  Loss D: 0.1459, Loss G: 4.6113\n",
      "Epoch [25/50]  Loss D: 0.1267, Loss G: 4.5709\n",
      "Epoch [26/50]  Loss D: 0.1324, Loss G: 5.2168\n",
      "Epoch [27/50]  Loss D: 0.1421, Loss G: 3.9462\n",
      "Epoch [28/50]  Loss D: 0.0956, Loss G: 4.5801\n",
      "Epoch [29/50]  Loss D: 0.3335, Loss G: 6.0843\n",
      "Epoch [30/50]  Loss D: 0.1683, Loss G: 8.1172\n",
      "Epoch [31/50]  Loss D: 0.2878, Loss G: 5.3705\n",
      "Epoch [32/50]  Loss D: 0.2937, Loss G: 5.1589\n",
      "Epoch [33/50]  Loss D: 0.2073, Loss G: 3.9154\n",
      "Epoch [34/50]  Loss D: 0.0947, Loss G: 5.7331\n",
      "Epoch [35/50]  Loss D: 0.4071, Loss G: 6.0159\n",
      "Epoch [36/50]  Loss D: 0.1360, Loss G: 5.3385\n",
      "Epoch [37/50]  Loss D: 0.3146, Loss G: 4.8557\n",
      "Epoch [38/50]  Loss D: 0.1819, Loss G: 5.3036\n",
      "Epoch [39/50]  Loss D: 0.1456, Loss G: 3.5093\n",
      "Epoch [40/50]  Loss D: 0.1642, Loss G: 3.8555\n",
      "Epoch [41/50]  Loss D: 0.2442, Loss G: 3.5831\n",
      "Epoch [42/50]  Loss D: 0.1720, Loss G: 4.1450\n",
      "Epoch [43/50]  Loss D: 0.2940, Loss G: 4.1040\n",
      "Epoch [44/50]  Loss D: 0.1884, Loss G: 5.1100\n",
      "Epoch [45/50]  Loss D: 0.2543, Loss G: 3.7143\n",
      "Epoch [46/50]  Loss D: 0.2298, Loss G: 4.4810\n",
      "Epoch [47/50]  Loss D: 0.1623, Loss G: 4.7382\n",
      "Epoch [48/50]  Loss D: 0.1444, Loss G: 4.5916\n",
      "Epoch [49/50]  Loss D: 0.2099, Loss G: 4.4105\n",
      "Epoch [50/50]  Loss D: 0.2993, Loss G: 3.5768\n"
     ]
    }
   ],
   "source": [
    "# Training loop\n",
    "for epoch in range(num_epochs):\n",
    "    for i, (imgs, labels) in enumerate(train_loader):\n",
    "        batch_size = imgs.size(0)\n",
    "        real_imgs = imgs.view(batch_size, -1).to(device)\n",
    "        labels = labels.to(device)\n",
    "        real = torch.ones(batch_size, 1).to(device)\n",
    "        fake = torch.zeros(batch_size, 1).to(device)\n",
    "\n",
    "        # Train Generator\n",
    "        noise = torch.randn(batch_size, latent_dim).to(device)\n",
    "        gen_labels = torch.randint(0, num_classes, (batch_size,)).to(device)\n",
    "        gen_imgs = generator(noise, gen_labels)\n",
    "        g_loss = criterion(discriminator(gen_imgs, gen_labels), real)\n",
    "\n",
    "        optimizer_G.zero_grad()\n",
    "        g_loss.backward()\n",
    "        optimizer_G.step()\n",
    "\n",
    "        # Train Discriminator\n",
    "        real_loss = criterion(discriminator(real_imgs, labels), real)\n",
    "        fake_loss = criterion(discriminator(gen_imgs.detach(), gen_labels), fake)\n",
    "        d_loss = real_loss + fake_loss\n",
    "\n",
    "        optimizer_D.zero_grad()\n",
    "        d_loss.backward()\n",
    "        optimizer_D.step()\n",
    "\n",
    "    print(f\"Epoch [{epoch+1}/{num_epochs}]  Loss D: {d_loss.item():.4f}, Loss G: {g_loss.item():.4f}\")"
   ]
  },
  {
   "cell_type": "code",
   "execution_count": 29,
   "metadata": {},
   "outputs": [
    {
     "data": {
      "image/png": "[encoded data removed]",
      "text/plain": [
       "<Figure size 640x480 with 1 Axes>"
      ]
     },
     "metadata": {},
     "output_type": "display_data"
    }
   ],
   "source": [
    "# Generate and visualize samples\n",
    "noise = torch.randn(10, latent_dim).to(device)\n",
    "labels = torch.arange(0, 10).to(device)\n",
    "gen_imgs = generator(noise, labels).view(-1, 1, 28, 28).cpu().detach()\n",
    "grid = torchvision.utils.make_grid(gen_imgs, nrow=5, normalize=True)\n",
    "plt.imshow(grid.permute(1, 2, 0))\n",
    "plt.axis(\"off\")\n",
    "plt.show()"
   ]
  }
 ],
 "metadata": {
  "kernelspec": {
   "display_name": "Python 3",
   "language": "python",
   "name": "python3"
  },
  "language_info": {
   "codemirror_mode": {
    "name": "ipython",
    "version": 3
   },
   "file_extension": ".py",
   "mimetype": "text/x-python",
   "name": "python",
   "nbconvert_exporter": "python",
   "pygments_lexer": "ipython3",
   "version": "3.11.6"
  }
 },
 "nbformat": 4,
 "nbformat_minor": 2
}
