{
 "cells": [
  {
   "cell_type": "code",
   "execution_count": 2,
   "metadata": {},
   "outputs": [],
   "source": [
    "import tensorflow as tf\n",
    "from matplotlib import image\n",
    "import matplotlib.pyplot as plt\n",
    "from PIL import Image\n",
    "import numpy as np\n",
    "import os\n",
    "from imblearn.over_sampling import SMOTE\n",
    "from sklearn.preprocessing import LabelEncoder"
   ]
  },
  {
   "cell_type": "code",
   "execution_count": null,
   "metadata": {},
   "outputs": [],
   "source": [
    "class ISMOTE:\n",
    "    def __init__(self) -> None:\n",
    "        self.label_encoder = LabelEncoder()\n",
    "    \n",
    "    def fit(self, path_to_image_folder:str, width_of_image:int, height_of_image:int):\n",
    "        self.images = []\n",
    "        self.labels = []\n",
    "        for file_name in os.listdir(path_to_image_folder):\n",
    "            image = Image.open(f\"{path_to_image_folder}/{file_name}\")\n",
    "            image = image.resize((width_of_image, height_of_image))\n",
    "            image_array = np.array(image).flatten()\n",
    "            self.images.append(image_array)\n",
    "            self.labels.append(file_name.split('_')[0])  \n",
    "        self.images = np.array(self.images)\n",
    "        self.labels = np.array(self.labels)\n",
    "    \n",
    "    def balance(self, path_to_output_image_folder):\n",
    "        labels_encoded = self.label_encoder.fit_transform(self.labels)\n",
    "        smote = SMOTE(sampling_strategy=\"auto\", random_state=42)\n",
    "        images_resampled, labels_resampled = smote.fit_resample(self.images, labels_encoded)\n",
    "        if not os.path.exists(path_to_output_image_folder):\n",
    "            os.makedirs(path_to_output_image_folder)\n",
    "        for i in range(len(images_resampled)):\n",
    "            image_array = images_resampled[i].reshape(width_of_image, height_of_image, 3)  \n",
    "            image = Image.fromarray(np.uint8(image_array))\n",
    "            label = self.label_encoder.inverse_transform([labels_resampled[i]])[0]\n",
    "            file_name = f\"{label}_{i}.png\"\n",
    "            image.save(f\"{path_to_output_image_folder}/{file_name}\")\n",
    "\n",
    "width_of_image = 150\n",
    "height_of_image = 150"
   ]
  }
 ],
 "metadata": {
  "kernelspec": {
   "display_name": "Python 3",
   "language": "python",
   "name": "python3"
  },
  "language_info": {
   "codemirror_mode": {
    "name": "ipython",
    "version": 3
   },
   "file_extension": ".py",
   "mimetype": "text/x-python",
   "name": "python",
   "nbconvert_exporter": "python",
   "pygments_lexer": "ipython3",
   "version": "3.11.6"
  }
 },
 "nbformat": 4,
 "nbformat_minor": 2
}
