{
 "cells": [
  {
   "cell_type": "code",
   "execution_count": 67,
   "metadata": {},
   "outputs": [],
   "source": [
    "from formatter import YOLOFormatter\n",
    "from ultralytics import YOLO\n",
    "import random\n",
    "import shutil\n",
    "\n",
    "class YOLODetector:\n",
    "    def __init__(self, yolo_type=\"yolov8s.pt\"):\n",
    "        self.yolo_formatter = YOLOFormatter()\n",
    "        self.yolo_type = yolo_type\n",
    "        self.model = YOLO(yolo_type)\n",
    "    \n",
    "    def format_to_yolo_directories(self, images_source_directory, labels_source_directory):\n",
    "        images_target_directory = \"./datasets/yolo-maritime-flags-dataset/images/train/\"\n",
    "        labels_target_directory = \"./datasets/yolo-maritime-flags-dataset/labels/train/\"\n",
    "        self.yolo_formatter.delete_all_files_and_directories(images_target_directory)\n",
    "        self.yolo_formatter.delete_all_files_and_directories(labels_target_directory)\n",
    "        self.yolo_formatter.copy(images_source_directory, images_target_directory)\n",
    "        self.yolo_formatter.copy(labels_source_directory, labels_target_directory)\n",
    "    \n",
    "    def create_validation_set(self, images_source_directory, labels_source_directory, number_of_images_per_class):\n",
    "        images_target_directory = \"./datasets/yolo-maritime-flags-dataset/images/val/\"\n",
    "        labels_target_directory = \"./datasets/yolo-maritime-flags-dataset/labels/val/\"\n",
    "        if os.path.exists(images_target_directory):\n",
    "            self.yolo_formatter.delete_all_files_and_directories(images_target_directory)\n",
    "        if os.path.exists(labels_target_directory):\n",
    "            self.yolo_formatter.delete_all_files_and_directories(labels_target_directory)\n",
    "        os.makedirs(images_target_directory)\n",
    "        os.makedirs(labels_target_directory)\n",
    "        categories = os.listdir(images_source_directory)\n",
    "        for category in categories:\n",
    "            path_to_category = f\"{images_source_directory}/{category}\"\n",
    "            number_of_images = len(os.listdir(path_to_category)) # 400\n",
    "            lower_bound = 10\n",
    "            upper_bound = number_of_images\n",
    "            selected_images = [f\"{category}_{random.randint(lower_bound, upper_bound)}.jpg\" for _ in range(number_of_images_per_class)]\n",
    "            for image in selected_images:\n",
    "                source=f\"{path_to_category}/{image}\"\n",
    "                destination=f\"{images_target_directory}/{image}\"\n",
    "                shutil.copy(source, destination)\n",
    "                label=str(image).split(\".\")[0]+\".txt\"\n",
    "                path_to_source_label=f\"{labels_source_directory}/{category}/{label}\"\n",
    "                path_to_output_label=f\"{labels_target_directory}/{label}\"\n",
    "                shutil.copy(path_to_source_label, path_to_output_label)\n",
    "\n",
    "    def create_test_set(self,images_source_directory, labels_source_directory, number_of_images_per_class):\n",
    "        images_target_directory = \"./datasets/yolo-maritime-flags-dataset/images/test/\"\n",
    "        labels_target_directory = \"./datasets/yolo-maritime-flags-dataset/labels/test/\"\n",
    "        if os.path.exists(images_target_directory):\n",
    "            self.yolo_formatter.delete_all_files_and_directories(images_target_directory)\n",
    "        if os.path.exists(labels_target_directory):\n",
    "            self.yolo_formatter.delete_all_files_and_directories(labels_target_directory)\n",
    "        os.makedirs(images_target_directory)\n",
    "        os.makedirs(labels_target_directory)\n",
    "        categories = os.listdir(images_source_directory)\n",
    "        for category in categories:\n",
    "            path_to_category = f\"{images_source_directory}/{category}\"\n",
    "            number_of_images = len(os.listdir(path_to_category)) # 400\n",
    "            lower_bound = 10\n",
    "            upper_bound = number_of_images\n",
    "            selected_images = [f\"{category}_{random.randint(lower_bound, upper_bound)}.jpg\" for _ in range(number_of_images_per_class)]\n",
    "            for image in selected_images:\n",
    "                source=f\"{path_to_category}/{image}\"\n",
    "                destination=f\"{images_target_directory}/{image}\"\n",
    "                shutil.copy(source, destination)\n",
    "                label=str(image).split(\".\")[0]+\".txt\"\n",
    "                path_to_source_label=f\"{labels_source_directory}/{category}/{label}\"\n",
    "                path_to_output_label=f\"{labels_target_directory}/{label}\"\n",
    "                shutil.copy(path_to_source_label, path_to_output_label)\n",
    "    \n",
    "    def fit(self, image_size, number_of_epochs):\n",
    "        model.train(data='data.yaml', imgsz=image_size, epochs=number_of_epochs)"
   ]
  },
  {
   "cell_type": "code",
   "execution_count": 70,
   "metadata": {},
   "outputs": [
    {
     "name": "stdout",
     "output_type": "stream",
     "text": [
      "New https://pypi.org/project/ultralytics/8.3.44 available  Update with 'pip install -U ultralytics'\n",
      "Ultralytics 8.3.43  Python-3.11.6 torch-2.1.1+cpu CPU (Intel Core(TM) i7-9750H 2.60GHz)\n",
      "\u001b[34m\u001b[1mengine\\trainer: \u001b[0mtask=detect, mode=train, model=yolov8s.pt, data=data.yaml, epochs=10, time=None, patience=100, batch=16, imgsz=128, save=True, save_period=-1, cache=False, device=None, workers=8, project=None, name=train7, exist_ok=False, pretrained=True, optimizer=auto, verbose=True, seed=0, deterministic=True, single_cls=False, rect=False, cos_lr=False, close_mosaic=10, resume=False, amp=True, fraction=1.0, profile=False, freeze=None, multi_scale=False, overlap_mask=True, mask_ratio=4, dropout=0.0, val=True, split=val, save_json=False, save_hybrid=False, conf=None, iou=0.7, max_det=300, half=False, dnn=False, plots=True, source=None, vid_stride=1, stream_buffer=False, visualize=False, augment=False, agnostic_nms=False, classes=None, retina_masks=False, embed=None, show=False, save_frames=False, save_txt=False, save_conf=False, save_crop=False, show_labels=True, show_conf=True, show_boxes=True, line_width=None, format=torchscript, keras=False, optimize=False, int8=False, dynamic=False, simplify=True, opset=None, workspace=None, nms=False, lr0=0.01, lrf=0.01, momentum=0.937, weight_decay=0.0005, warmup_epochs=3.0, warmup_momentum=0.8, warmup_bias_lr=0.1, box=7.5, cls=0.5, dfl=1.5, pose=12.0, kobj=1.0, nbs=64, hsv_h=0.015, hsv_s=0.7, hsv_v=0.4, degrees=0.0, translate=0.1, scale=0.5, shear=0.0, perspective=0.0, flipud=0.0, fliplr=0.5, bgr=0.0, mosaic=1.0, mixup=0.0, copy_paste=0.0, copy_paste_mode=flip, auto_augment=randaugment, erasing=0.4, crop_fraction=1.0, cfg=None, tracker=botsort.yaml, save_dir=runs\\detect\\train7\n",
      "\n",
      "                   from  n    params  module                                       arguments                     \n",
      "  0                  -1  1       928  ultralytics.nn.modules.conv.Conv             [3, 32, 3, 2]                 \n",
      "  1                  -1  1     18560  ultralytics.nn.modules.conv.Conv             [32, 64, 3, 2]                \n",
      "  2                  -1  1     29056  ultralytics.nn.modules.block.C2f             [64, 64, 1, True]             \n",
      "  3                  -1  1     73984  ultralytics.nn.modules.conv.Conv             [64, 128, 3, 2]               \n",
      "  4                  -1  2    197632  ultralytics.nn.modules.block.C2f             [128, 128, 2, True]           \n",
      "  5                  -1  1    295424  ultralytics.nn.modules.conv.Conv             [128, 256, 3, 2]              \n",
      "  6                  -1  2    788480  ultralytics.nn.modules.block.C2f             [256, 256, 2, True]           \n",
      "  7                  -1  1   1180672  ultralytics.nn.modules.conv.Conv             [256, 512, 3, 2]              \n",
      "  8                  -1  1   1838080  ultralytics.nn.modules.block.C2f             [512, 512, 1, True]           \n",
      "  9                  -1  1    656896  ultralytics.nn.modules.block.SPPF            [512, 512, 5]                 \n",
      " 10                  -1  1         0  torch.nn.modules.upsampling.Upsample         [None, 2, 'nearest']          \n",
      " 11             [-1, 6]  1         0  ultralytics.nn.modules.conv.Concat           [1]                           \n",
      " 12                  -1  1    591360  ultralytics.nn.modules.block.C2f             [768, 256, 1]                 \n",
      " 13                  -1  1         0  torch.nn.modules.upsampling.Upsample         [None, 2, 'nearest']          \n",
      " 14             [-1, 4]  1         0  ultralytics.nn.modules.conv.Concat           [1]                           \n",
      " 15                  -1  1    148224  ultralytics.nn.modules.block.C2f             [384, 128, 1]                 \n",
      " 16                  -1  1    147712  ultralytics.nn.modules.conv.Conv             [128, 128, 3, 2]              \n",
      " 17            [-1, 12]  1         0  ultralytics.nn.modules.conv.Concat           [1]                           \n",
      " 18                  -1  1    493056  ultralytics.nn.modules.block.C2f             [384, 256, 1]                 \n",
      " 19                  -1  1    590336  ultralytics.nn.modules.conv.Conv             [256, 256, 3, 2]              \n",
      " 20             [-1, 9]  1         0  ultralytics.nn.modules.conv.Concat           [1]                           \n",
      " 21                  -1  1   1969152  ultralytics.nn.modules.block.C2f             [768, 512, 1]                 \n",
      " 22        [15, 18, 21]  1   2126110  ultralytics.nn.modules.head.Detect           [26, [128, 256, 512]]         \n",
      "Model summary: 225 layers, 11,145,662 parameters, 11,145,646 gradients, 28.7 GFLOPs\n",
      "\n",
      "Transferred 355/355 items from pretrained weights\n",
      "\u001b[34m\u001b[1mTensorBoard: \u001b[0mStart with 'tensorboard --logdir runs\\detect\\train7', view at http://localhost:6006/\n",
      "Freezing layer 'model.22.dfl.conv.weight'\n"
     ]
    },
    {
     "name": "stderr",
     "output_type": "stream",
     "text": [
      "\u001b[34m\u001b[1mtrain: \u001b[0mScanning D:\\Github-Imbalanced\\Current-\\Imbalanced-Data-Problem-for-Image-Detection\\datasets\\yolo-maritime-flags-dataset\\labels\\train... 10400 images, 0 backgrounds, 0 corrupt: 100%|██████████| 10400/10400 [00:16<00:00, 645.99it/s]\n"
     ]
    },
    {
     "name": "stdout",
     "output_type": "stream",
     "text": [
      "\u001b[34m\u001b[1mtrain: \u001b[0mNew cache created: D:\\Github-Imbalanced\\Current-\\Imbalanced-Data-Problem-for-Image-Detection\\datasets\\yolo-maritime-flags-dataset\\labels\\train.cache\n"
     ]
    },
    {
     "name": "stderr",
     "output_type": "stream",
     "text": [
      "\u001b[34m\u001b[1mval: \u001b[0mScanning D:\\Github-Imbalanced\\Current-\\Imbalanced-Data-Problem-for-Image-Detection\\datasets\\yolo-maritime-flags-dataset\\labels\\train.cache... 10400 images, 0 backgrounds, 0 corrupt: 100%|██████████| 10400/10400 [00:00<?, ?it/s]"
     ]
    },
    {
     "name": "stdout",
     "output_type": "stream",
     "text": [
      "Plotting labels to runs\\detect\\train7\\labels.jpg... \n"
     ]
    },
    {
     "name": "stderr",
     "output_type": "stream",
     "text": [
      "\n"
     ]
    },
    {
     "name": "stdout",
     "output_type": "stream",
     "text": [
      "\u001b[34m\u001b[1moptimizer:\u001b[0m 'optimizer=auto' found, ignoring 'lr0=0.01' and 'momentum=0.937' and determining best 'optimizer', 'lr0' and 'momentum' automatically... \n",
      "\u001b[34m\u001b[1moptimizer:\u001b[0m AdamW(lr=0.000333, momentum=0.9) with parameter groups 57 weight(decay=0.0), 64 weight(decay=0.0005), 63 bias(decay=0.0)\n",
      "\u001b[34m\u001b[1mTensorBoard: \u001b[0mmodel graph visualization added \n",
      "Image sizes 128 train, 128 val\n",
      "Using 0 dataloader workers\n",
      "Logging results to \u001b[1mruns\\detect\\train7\u001b[0m\n",
      "Starting training for 10 epochs...\n",
      "Closing dataloader mosaic\n",
      "\n",
      "      Epoch    GPU_mem   box_loss   cls_loss   dfl_loss  Instances       Size\n"
     ]
    },
    {
     "name": "stderr",
     "output_type": "stream",
     "text": [
      "       1/10         0G     0.5317      3.152      1.119         16        128:  35%|███▌      | 230/650 [02:11<03:59,  1.75it/s]\n"
     ]
    },
    {
     "name": "stdout",
     "output_type": "stream",
     "text": [
      "Unexpected exception formatting exception. Falling back to standard exception\n"
     ]
    },
    {
     "name": "stderr",
     "output_type": "stream",
     "text": [
      "Traceback (most recent call last):\n",
      "  File \"C:\\Users\\PanCh\\AppData\\Roaming\\Python\\Python311\\site-packages\\IPython\\core\\interactiveshell.py\", line 3548, in run_code\n",
      "    exec(code_obj, self.user_global_ns, self.user_ns)\n",
      "  File \"C:\\Users\\PanCh\\AppData\\Local\\Temp\\ipykernel_18056\\54058297.py\", line 25, in <module>\n",
      "    yolo_detector.fit(\n",
      "  File \"C:\\Users\\PanCh\\AppData\\Local\\Temp\\ipykernel_18056\\3825323494.py\", line 71, in fit\n",
      "    model.train(data='data.yaml', imgsz=image_size, epochs=number_of_epochs)\n",
      "  File \"D:\\Github-Imbalanced\\Current-\\yolo\\ultralytics\\ultralytics\\engine\\model.py\", line 805, in train\n",
      "    self.trainer.train()\n",
      "  File \"D:\\Github-Imbalanced\\Current-\\yolo\\ultralytics\\ultralytics\\engine\\trainer.py\", line 207, in train\n",
      "    self._do_train(world_size)\n",
      "  File \"D:\\Github-Imbalanced\\Current-\\yolo\\ultralytics\\ultralytics\\engine\\trainer.py\", line 392, in _do_train\n",
      "    self.optimizer_step()\n",
      "  File \"D:\\Github-Imbalanced\\Current-\\yolo\\ultralytics\\ultralytics\\engine\\trainer.py\", line 593, in optimizer_step\n",
      "    self.ema.update(self.model)\n",
      "  File \"D:\\Github-Imbalanced\\Current-\\yolo\\ultralytics\\ultralytics\\utils\\torch_utils.py\", line -1, in update\n",
      "KeyboardInterrupt\n",
      "\n",
      "During handling of the above exception, another exception occurred:\n",
      "\n",
      "Traceback (most recent call last):\n",
      "  File \"C:\\Users\\PanCh\\AppData\\Roaming\\Python\\Python311\\site-packages\\IPython\\core\\interactiveshell.py\", line 2142, in showtraceback\n",
      "    stb = self.InteractiveTB.structured_traceback(\n",
      "          ^^^^^^^^^^^^^^^^^^^^^^^^^^^^^^^^^^^^^^^^\n",
      "  File \"C:\\Users\\PanCh\\AppData\\Roaming\\Python\\Python311\\site-packages\\IPython\\core\\ultratb.py\", line 1435, in structured_traceback\n",
      "    return FormattedTB.structured_traceback(\n",
      "           ^^^^^^^^^^^^^^^^^^^^^^^^^^^^^^^^^\n",
      "  File \"C:\\Users\\PanCh\\AppData\\Roaming\\Python\\Python311\\site-packages\\IPython\\core\\ultratb.py\", line 1326, in structured_traceback\n",
      "    return VerboseTB.structured_traceback(\n",
      "           ^^^^^^^^^^^^^^^^^^^^^^^^^^^^^^^\n",
      "  File \"C:\\Users\\PanCh\\AppData\\Roaming\\Python\\Python311\\site-packages\\IPython\\core\\ultratb.py\", line 1173, in structured_traceback\n",
      "    formatted_exception = self.format_exception_as_a_whole(etype, evalue, etb, number_of_lines_of_context,\n",
      "                          ^^^^^^^^^^^^^^^^^^^^^^^^^^^^^^^^^^^^^^^^^^^^^^^^^^^^^^^^^^^^^^^^^^^^^^^^^^^^^^^^\n",
      "  File \"C:\\Users\\PanCh\\AppData\\Roaming\\Python\\Python311\\site-packages\\IPython\\core\\ultratb.py\", line 1088, in format_exception_as_a_whole\n",
      "    frames.append(self.format_record(record))\n",
      "                  ^^^^^^^^^^^^^^^^^^^^^^^^^^\n",
      "  File \"C:\\Users\\PanCh\\AppData\\Roaming\\Python\\Python311\\site-packages\\IPython\\core\\ultratb.py\", line 970, in format_record\n",
      "    frame_info.lines, Colors, self.has_colors, lvals\n",
      "    ^^^^^^^^^^^^^^^^\n",
      "  File \"C:\\Users\\PanCh\\AppData\\Roaming\\Python\\Python311\\site-packages\\IPython\\core\\ultratb.py\", line 792, in lines\n",
      "    return self._sd.lines\n",
      "           ^^^^^^^^^^^^^^\n",
      "  File \"C:\\Users\\PanCh\\AppData\\Roaming\\Python\\Python311\\site-packages\\stack_data\\utils.py\", line 145, in cached_property_wrapper\n",
      "    value = obj.__dict__[self.func.__name__] = self.func(obj)\n",
      "                                               ^^^^^^^^^^^^^^\n",
      "  File \"C:\\Users\\PanCh\\AppData\\Roaming\\Python\\Python311\\site-packages\\stack_data\\core.py\", line 734, in lines\n",
      "    pieces = self.included_pieces\n",
      "             ^^^^^^^^^^^^^^^^^^^^\n",
      "  File \"C:\\Users\\PanCh\\AppData\\Roaming\\Python\\Python311\\site-packages\\stack_data\\utils.py\", line 145, in cached_property_wrapper\n",
      "    value = obj.__dict__[self.func.__name__] = self.func(obj)\n",
      "                                               ^^^^^^^^^^^^^^\n",
      "  File \"C:\\Users\\PanCh\\AppData\\Roaming\\Python\\Python311\\site-packages\\stack_data\\core.py\", line 681, in included_pieces\n",
      "    pos = scope_pieces.index(self.executing_piece)\n",
      "                             ^^^^^^^^^^^^^^^^^^^^\n",
      "  File \"C:\\Users\\PanCh\\AppData\\Roaming\\Python\\Python311\\site-packages\\stack_data\\utils.py\", line 145, in cached_property_wrapper\n",
      "    value = obj.__dict__[self.func.__name__] = self.func(obj)\n",
      "                                               ^^^^^^^^^^^^^^\n",
      "  File \"C:\\Users\\PanCh\\AppData\\Roaming\\Python\\Python311\\site-packages\\stack_data\\core.py\", line 660, in executing_piece\n",
      "    return only(\n",
      "           ^^^^^\n",
      "  File \"C:\\Users\\PanCh\\AppData\\Roaming\\Python\\Python311\\site-packages\\executing\\executing.py\", line 116, in only\n",
      "    raise NotOneValueFound('Expected one value, found 0')\n",
      "executing.executing.NotOneValueFound: Expected one value, found 0\n"
     ]
    }
   ],
   "source": [
    "method=\"SMOTE\"\n",
    "yolo_type=\"yolov8s.pt\"\n",
    "images_source_directory=f\"./maritime-flags-dataset/{method}_balanced_flags/images/\"\n",
    "labels_source_directory=f\"./maritime-flags-dataset/{method}_balanced_flags/labels/\"\n",
    "validation_number_of_images_per_class=32\n",
    "test_number_of_images_per_class=20\n",
    "image_size=128\n",
    "number_of_epochs=10\n",
    "\n",
    "yolo_detector = YOLODetector(yolo_type=yolo_type)\n",
    "yolo_detector.format_to_yolo_directories(\n",
    "    images_source_directory=images_source_directory, \n",
    "    labels_source_directory=labels_source_directory\n",
    ")\n",
    "yolo_detector.create_validation_set(\n",
    "    images_source_directory=images_source_directory, \n",
    "    labels_source_directory=labels_source_directory, \n",
    "    number_of_images_per_class=validation_number_of_images_per_class\n",
    ")\n",
    "yolo_detector.create_test_set(\n",
    "    images_source_directory=images_source_directory, \n",
    "    labels_source_directory=labels_source_directory,\n",
    "    number_of_images_per_class=test_number_of_images_per_class\n",
    ")\n",
    "yolo_detector.fit(\n",
    "    image_size=image_size, \n",
    "    number_of_epochs=number_of_epochs\n",
    ")"
   ]
  }
 ],
 "metadata": {
  "kernelspec": {
   "display_name": "Python 3",
   "language": "python",
   "name": "python3"
  },
  "language_info": {
   "codemirror_mode": {
    "name": "ipython",
    "version": 3
   },
   "file_extension": ".py",
   "mimetype": "text/x-python",
   "name": "python",
   "nbconvert_exporter": "python",
   "pygments_lexer": "ipython3",
   "version": "3.11.6"
  }
 },
 "nbformat": 4,
 "nbformat_minor": 2
}
