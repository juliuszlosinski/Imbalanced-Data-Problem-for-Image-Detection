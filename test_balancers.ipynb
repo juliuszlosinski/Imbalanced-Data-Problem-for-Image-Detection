{
 "cells": [
  {
   "cell_type": "code",
   "execution_count": null,
   "metadata": {},
   "outputs": [],
   "source": [
    "from balancer.balancer import Balancer\n",
    "\n",
    "#methods=[\"SMOTE\", \"ADASYN\", \"AUGMENTATION\", \"DGAN\", \"AE\"]\n",
    "methods=[\"SMOTE\"]\n",
    "balancer=Balancer(\"./configuration.json\")\n",
    "debug=True\n",
    "for method in methods:\n",
    "    path_to_input_imbalanced_images_folder=f\"./maritime-flags-dataset/imbalanced_flags/images\"                    # IMBALANCED/SRC IMAGES\n",
    "    path_to_output_balanced_images_folder=f\"./maritime-flags-dataset/{method}_balanced_flags/images/\"             # BALANCED IMAGES\n",
    "    path_to_output_balanced_images_annotations_folder=f\"./maritime-flags-dataset/{method}_balanced_flags/labels/\" # ANNOTATIONS\n",
    "    balancer.fit(path_to_input_image_folder=path_to_input_imbalanced_images_folder, mode=method, debug=True)\n",
    "    balancer.balance(path_to_output_image_folder=path_to_output_balanced_images_folder, debug=True)\n",
    "    balancer.annotate(path_to_input_image_folder=path_to_output_balanced_images_folder, path_to_output_annotations=path_to_output_balanced_images_annotations_folder)"
   ]
  }
 ],
 "metadata": {
  "kernelspec": {
   "display_name": "Python 3",
   "language": "python",
   "name": "python3"
  },
  "language_info": {
   "codemirror_mode": {
    "name": "ipython",
    "version": 3
   },
   "file_extension": ".py",
   "mimetype": "text/x-python",
   "name": "python",
   "nbconvert_exporter": "python",
   "pygments_lexer": "ipython3",
   "version": "3.11.6"
  }
 },
 "nbformat": 4,
 "nbformat_minor": 2
}
