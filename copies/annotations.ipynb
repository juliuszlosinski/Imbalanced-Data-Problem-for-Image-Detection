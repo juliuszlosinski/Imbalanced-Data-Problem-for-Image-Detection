{
 "cells": [
  {
   "cell_type": "code",
   "execution_count": 7,
   "metadata": {},
   "outputs": [],
   "source": [
    "import os\n",
    "import shutil\n",
    "\n",
    "class Annotations:\n",
    "    \n",
    "    def __init__(self, x_center=\"0.5\", y_center=\"0.5\", width=\"1.0\", height=\"1.0\"):\n",
    "        \"\"\"\n",
    "        Bounding box format for YOLO: <class_id> <x-center> <y-center> <width> <height>\n",
    "        \"\"\"\n",
    "        self.bounding_box = f\"{x_center} {y_center} {width} {height}\"\n",
    "\n",
    "    def annotate(self, path_to_input_images, path_to_output_annotations):\n",
    "        id = 0\n",
    "        for category in os.listdir(path_to_input_images):\n",
    "            category_path = os.path.join(path_to_input_images, category)\n",
    "            if not os.path.isdir(category_path):  \n",
    "                continue\n",
    "            number_of_images = len(os.listdir(category_path))\n",
    "            path_to_annotation_directory = os.path.join(path_to_output_annotations, category)\n",
    "            if os.path.exists(path_to_annotation_directory):\n",
    "                shutil.rmtree(path_to_annotation_directory)\n",
    "            os.makedirs(path_to_annotation_directory, exist_ok=True)\n",
    "            for i in range(number_of_images):\n",
    "                result = f\"{id} {self.bounding_box}\"\n",
    "                if i < 9:\n",
    "                    file_name = f\"{category}_0{i+1}.txt\"\n",
    "                else:\n",
    "                    file_name = f\"{category}_{i+1}.txt\"\n",
    "                \n",
    "                path_to_annotation_file = os.path.join(path_to_annotation_directory, file_name)\n",
    "                with open(path_to_annotation_file, \"w\") as annotation_file:\n",
    "                    annotation_file.write(result)\n",
    "            id += 1\n",
    "\n",
    "# Create an instance of Annotations and call the annotate function\n",
    "annotator = Annotations()\n",
    "annotator.annotate(\n",
    "    path_to_input_images=\"./final-dataset/imbalanced_flags/images/\",\n",
    "    path_to_output_annotations=\"./final-dataset/imbalanced_flags/labels/\"\n",
    ")"
   ]
  }
 ],
 "metadata": {
  "kernelspec": {
   "display_name": "Python 3",
   "language": "python",
   "name": "python3"
  },
  "language_info": {
   "codemirror_mode": {
    "name": "ipython",
    "version": 3
   },
   "file_extension": ".py",
   "mimetype": "text/x-python",
   "name": "python",
   "nbconvert_exporter": "python",
   "pygments_lexer": "ipython3",
   "version": "3.11.6"
  }
 },
 "nbformat": 4,
 "nbformat_minor": 2
}
