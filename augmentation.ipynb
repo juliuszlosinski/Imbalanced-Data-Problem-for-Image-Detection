{
 "cells": [
  {
   "cell_type": "markdown",
   "metadata": {},
   "source": [
    "### <b>Image augmentation for INPUT: <b style=\"color:red\">128x128</b></b>"
   ]
  },
  {
   "cell_type": "code",
   "execution_count": 11,
   "metadata": {},
   "outputs": [],
   "source": [
    "import os\n",
    "import cv2\n",
    "import numpy as np\n",
    "import shutil"
   ]
  },
  {
   "cell_type": "code",
   "execution_count": 12,
   "metadata": {},
   "outputs": [],
   "source": [
    "class Augmentation:\n",
    "    def __init__(self, random_bound=0.5):\n",
    "        self.random_bound = random_bound\n",
    "    \n",
    "    def augment_image(self, image, rotate=True):\n",
    "        if np.random.rand() > self.random_bound:\n",
    "            image = cv2.flip(image, 1)\n",
    "        if rotate:\n",
    "            angle = np.random.choice([90, 180, 270])\n",
    "            height, width = image.shape[:2]\n",
    "            center = (width // 2, height // 2)\n",
    "            rotation_matrix = cv2.getRotationMatrix2D(center, angle, 1)\n",
    "            image = cv2.warpAffine(image, rotation_matrix, (width, height))\n",
    "        factor = np.random.uniform(1.0, 1.05)\n",
    "        image = cv2.convertScaleAbs(image, alpha=factor, beta=0)\n",
    "        return image\n",
    "    \n",
    "    def augment_image_file(self, path_to_input_image, path_to_output_image, rotate=True):\n",
    "        image = cv2.imread(path_to_input_image)\n",
    "        image = self.augment_image(image)\n",
    "        cv2.imwrite(path_to_output_image, image)"
   ]
  },
  {
   "cell_type": "code",
   "execution_count": null,
   "metadata": {},
   "outputs": [
    {
     "ename": "FileNotFoundError",
     "evalue": "[WinError 3] System nie może odnaleźć określonej ścieżki: './final-dataset/training/imbalanced_flags'",
     "output_type": "error",
     "traceback": [
      "\u001b[1;31m---------------------------------------------------------------------------\u001b[0m",
      "\u001b[1;31mFileNotFoundError\u001b[0m                         Traceback (most recent call last)",
      "Cell \u001b[1;32mIn[14], line 54\u001b[0m\n\u001b[0;32m     48\u001b[0m                 \u001b[38;5;28mself\u001b[39m\u001b[38;5;241m.\u001b[39maugmentation\u001b[38;5;241m.\u001b[39maugment_image_file(\n\u001b[0;32m     49\u001b[0m                     path_to_selected_image,\n\u001b[0;32m     50\u001b[0m                     path_to_generate_image\n\u001b[0;32m     51\u001b[0m                 )\n\u001b[0;32m     53\u001b[0m aug_balancer \u001b[38;5;241m=\u001b[39m AugmentationBalancer()\n\u001b[1;32m---> 54\u001b[0m \u001b[43maug_balancer\u001b[49m\u001b[38;5;241;43m.\u001b[39;49m\u001b[43mfit\u001b[49m\u001b[43m(\u001b[49m\u001b[38;5;124;43m\"\u001b[39;49m\u001b[38;5;124;43m./final-dataset/training/imbalanced_flags\u001b[39;49m\u001b[38;5;124;43m\"\u001b[39;49m\u001b[43m,\u001b[49m\u001b[43m \u001b[49m\u001b[43mdebug\u001b[49m\u001b[38;5;241;43m=\u001b[39;49m\u001b[38;5;28;43;01mTrue\u001b[39;49;00m\u001b[43m)\u001b[49m\n\u001b[0;32m     55\u001b[0m aug_balancer\u001b[38;5;241m.\u001b[39mbalance(\u001b[38;5;124m\"\u001b[39m\u001b[38;5;124m./final-dataset/training/balanced_flags/\u001b[39m\u001b[38;5;124m\"\u001b[39m, debug\u001b[38;5;241m=\u001b[39m\u001b[38;5;28;01mTrue\u001b[39;00m)\n",
      "Cell \u001b[1;32mIn[14], line 7\u001b[0m, in \u001b[0;36mAugmentationBalancer.fit\u001b[1;34m(self, path_to_folder, delta, debug)\u001b[0m\n\u001b[0;32m      5\u001b[0m \u001b[38;5;28;01mdef\u001b[39;00m \u001b[38;5;21mfit\u001b[39m(\u001b[38;5;28mself\u001b[39m, path_to_folder, delta\u001b[38;5;241m=\u001b[39m\u001b[38;5;241m5\u001b[39m, debug\u001b[38;5;241m=\u001b[39m\u001b[38;5;28;01mFalse\u001b[39;00m):\n\u001b[0;32m      6\u001b[0m     \u001b[38;5;28mself\u001b[39m\u001b[38;5;241m.\u001b[39mpath_to_folder\u001b[38;5;241m=\u001b[39mpath_to_folder        \n\u001b[1;32m----> 7\u001b[0m     directories \u001b[38;5;241m=\u001b[39m \u001b[43mos\u001b[49m\u001b[38;5;241;43m.\u001b[39;49m\u001b[43mlistdir\u001b[49m\u001b[43m(\u001b[49m\u001b[43mpath_to_folder\u001b[49m\u001b[43m)\u001b[49m\n\u001b[0;32m      8\u001b[0m     real_directories \u001b[38;5;241m=\u001b[39m {}\n\u001b[0;32m      9\u001b[0m     \u001b[38;5;28mself\u001b[39m\u001b[38;5;241m.\u001b[39mto_generate \u001b[38;5;241m=\u001b[39m {}\n",
      "\u001b[1;31mFileNotFoundError\u001b[0m: [WinError 3] System nie może odnaleźć określonej ścieżki: './final-dataset/training/imbalanced_flags'"
     ]
    }
   ],
   "source": [
    "class AugmentationBalancer:\n",
    "    def __init__(self, random_bound=0.5):\n",
    "        self.augmentation = Augmentation(random_bound=random_bound)\n",
    "    \n",
    "    def fit(self, path_to_folder, delta=5, debug=False):\n",
    "        self.path_to_folder=path_to_folder        \n",
    "        directories = os.listdir(path_to_folder)\n",
    "        real_directories = {}\n",
    "        self.to_generate = {}\n",
    "        for directory in directories:\n",
    "            if os.path.isdir(f\"{path_to_folder}/{directory}\"):\n",
    "                count = len(os.listdir(f\"{path_to_folder}/{directory}\"))\n",
    "                real_directories[directory]=count\n",
    "        max_id = max(real_directories)\n",
    "        self.total_classes = [key for key in real_directories]\n",
    "        for directory in real_directories:\n",
    "            diff = real_directories[max_id] - real_directories[directory]\n",
    "            if(diff>delta):\n",
    "                self.to_generate[directory]=diff\n",
    "        if debug:\n",
    "            print(self.to_generate)\n",
    "        \n",
    "    def balance(self, path_to_folder, debug=False):\n",
    "        for category in self.total_classes:\n",
    "            source_folder = f\"{self.path_to_folder}/{category}\"\n",
    "            destination_folder =f\"{path_to_folder}/{category}\"\n",
    "            if os.path.exists(destination_folder) and os.path.isdir(destination_folder):\n",
    "                shutil.rmtree(destination_folder)\n",
    "            shutil.copytree(source_folder, destination_folder)\n",
    "        if debug:\n",
    "            print(self.to_generate)\n",
    "        for category in self.to_generate:\n",
    "            last_id = -1\n",
    "            for file in os.listdir(f\"{path_to_folder}/{category}\"):\n",
    "                id = int(file.split(\"_\")[1].split(\".\")[0])\n",
    "                if id > last_id:\n",
    "                    last_id = id\n",
    "            for i in range(self.to_generate[category]):\n",
    "                selected_id = np.random.randint(0, last_id-1) + 1\n",
    "                if selected_id < 10:\n",
    "                    selected_id = f\"0{selected_id}\"\n",
    "                last_id = last_id + 1\n",
    "                path_to_selected_image = f\"{path_to_folder}/{category}/{category}_{selected_id}.jpg\"\n",
    "                path_to_generate_image = f\"{path_to_folder}/{category}/{category}_{last_id}.jpg\"\n",
    "                if debug:\n",
    "                    print(f\"Path to selected image: {path_to_selected_image}\")\n",
    "                    print(f\"Path to generate image: {path_to_generate_image}\\n\")\n",
    "                self.augmentation.augment_image_file(\n",
    "                    path_to_selected_image,\n",
    "                    path_to_generate_image\n",
    "                )\n",
    "    \n",
    "aug_balancer = AugmentationBalancer()\n",
    "aug_balancer.fit(\"./final-dataset/imbalanced_flags\", debug=True)\n",
    "aug_balancer.balance(\"./final-dataset/balanced_flags/\", debug=True)"
   ]
  }
 ],
 "metadata": {
  "kernelspec": {
   "display_name": "Python 3",
   "language": "python",
   "name": "python3"
  },
  "language_info": {
   "codemirror_mode": {
    "name": "ipython",
    "version": 3
   },
   "file_extension": ".py",
   "mimetype": "text/x-python",
   "name": "python",
   "nbconvert_exporter": "python",
   "pygments_lexer": "ipython3",
   "version": "3.11.6"
  }
 },
 "nbformat": 4,
 "nbformat_minor": 2
}
