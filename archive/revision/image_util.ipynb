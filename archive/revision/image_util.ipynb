{
 "cells": [
  {
   "cell_type": "code",
   "execution_count": null,
   "metadata": {},
   "outputs": [
    {
     "name": "stdout",
     "output_type": "stream",
     "text": [
      "['China', 'Germany', 'India', 'Japan', 'UK', 'USA']\n"
     ]
    }
   ],
   "source": [
    "import os\n",
    "import shutil\n",
    "\n",
    "class ImageUtil():\n",
    "    \n",
    "    def __init__(self):\n",
    "        pass\n",
    "    \n",
    "    def split_into_directories(self, path_to_input_folder, path_to_output_folder):\n",
    "        data = os.listdir(path_to_input_folder)\n",
    "        files = [file.split(\"_\")[0] for file in data]\n",
    "        categories = list(set(files))\n",
    "        \n",
    "        for category in categories:\n",
    "            category_path = f\"{path_to_output_folder}/{category}\"\n",
    "            if os.path.exists(category_path):\n",
    "                shutil.rmtree(category_path)\n",
    "            os.mkdir(category_path)\n",
    "            \n",
    "        for file in data:\n",
    "            file_path = f\"{path_to_input_folder}/{file}\"\n",
    "            if os.path.isfile(file_path):\n",
    "                for category in categories:\n",
    "                    if str(file).count(category):\n",
    "                        new_path = f\"{path_to_input_folder}/{category}/{file}\"\n",
    "                        shutil.move(file_path, new_path)  \n",
    "    \n",
    "    def merge_images_into_one_directory(self, path_to_directory, path_to_output_directory):\n",
    "        data = os.listdir(path_to_directory)\n",
    "        directories_to_merge = []\n",
    "        for d in data:\n",
    "            file_path = f\"{path_to_directory}/{d}\"\n",
    "            if not os.path.isfile(file_path):\n",
    "                directories_to_merge.append(d)\n",
    "        print(directories_to_merge)\n",
    "        if os.path.exists(path_to_output_directory):\n",
    "            shutil.rmtree(path_to_output_directory)\n",
    "        os.mkdir(path_to_output_directory)\n",
    "        for directory in directories_to_merge:\n",
    "            files = os.listdir(f\"{path_to_directory}/{directory}\")\n",
    "            for file in files:\n",
    "                try:\n",
    "                    shutil.copy2(f\"{path_to_directory}/{directory}/{file}\", path_to_output_directory)\n",
    "                except shutil.SameFileError:\n",
    "                    pass\n",
    "    \n",
    "\n",
    "path_to_folder = f\"./dataset/training/merged_imbalanced_flags\"\n",
    "image_util = ImageUtil()\n",
    "image_util.merge_images_into_one_directory(f\"./dataset/training/imbalanced_flags/\", path_to_folder)\n",
    "image_util.split_into_directories(path_to_folder, path_to_folder)"
   ]
  }
 ],
 "metadata": {
  "kernelspec": {
   "display_name": "Python 3",
   "language": "python",
   "name": "python3"
  },
  "language_info": {
   "codemirror_mode": {
    "name": "ipython",
    "version": 3
   },
   "file_extension": ".py",
   "mimetype": "text/x-python",
   "name": "python",
   "nbconvert_exporter": "python",
   "pygments_lexer": "ipython3",
   "version": "3.11.6"
  }
 },
 "nbformat": 4,
 "nbformat_minor": 2
}
